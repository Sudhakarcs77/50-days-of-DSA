{
 "cells": [
  {
   "cell_type": "code",
   "execution_count": 1,
   "metadata": {},
   "outputs": [
    {
     "data": {
      "text/plain": [
       "'\\n\\ngiven array return powerSum\\nexamples:\\n[1, 2, 3] --> 6\\n[1,2,[3,4]] --> 51\\n[1,2,[3,4],[[2]]] -> 116\\n\\n\\n'"
      ]
     },
     "execution_count": 1,
     "metadata": {},
     "output_type": "execute_result"
    }
   ],
   "source": [
    "\"\"\"\n",
    "\n",
    "given array return powerSum\n",
    "examples:\n",
    "[1, 2, 3] --> 6\n",
    "[1,2,[3,4]] --> 51\n",
    "[1,2,[3,4],[[2]]] -> 116\n",
    "\n",
    "\n",
    "\"\"\""
   ]
  },
  {
   "cell_type": "code",
   "execution_count": 5,
   "metadata": {},
   "outputs": [],
   "source": [
    "def powerSum(array,power=1):\n",
    "    sum = 0\n",
    "    for i in array:\n",
    "        if isinstance(i, list):\n",
    "            sum += powerSum(i, power+1)\n",
    "        else:\n",
    "            sum += i\n",
    "    return sum ** power\n",
    "        "
   ]
  },
  {
   "cell_type": "code",
   "execution_count": 6,
   "metadata": {},
   "outputs": [
    {
     "name": "stdout",
     "output_type": "stream",
     "text": [
      "6\n",
      "52\n",
      "116\n"
     ]
    }
   ],
   "source": [
    "\n",
    "# Test cases\n",
    "print(powerSum([1, 2, 3]))  # 6\n",
    "print(powerSum([1, 2, [3, 4]]))  # 52\n",
    "print(powerSum([1, 2, [3, 4], [[2]]]))  # 116"
   ]
  },
  {
   "cell_type": "code",
   "execution_count": null,
   "metadata": {},
   "outputs": [],
   "source": []
  }
 ],
 "metadata": {
  "kernelspec": {
   "display_name": "Python 3",
   "language": "python",
   "name": "python3"
  },
  "language_info": {
   "codemirror_mode": {
    "name": "ipython",
    "version": 3
   },
   "file_extension": ".py",
   "mimetype": "text/x-python",
   "name": "python",
   "nbconvert_exporter": "python",
   "pygments_lexer": "ipython3",
   "version": "3.11.5"
  }
 },
 "nbformat": 4,
 "nbformat_minor": 2
}
