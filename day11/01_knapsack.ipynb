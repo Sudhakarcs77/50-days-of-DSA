{
 "cells": [
  {
   "cell_type": "markdown",
   "metadata": {},
   "source": [
    "## 0 - 1 Knapsack Problem\n"
   ]
  },
  {
   "cell_type": "markdown",
   "metadata": {},
   "source": [
    "You are given the weights and values of items, and you need to put these items \n",
    "in a knapsack of capacity capacity to achieve the maximum total value in the knapsack. \n",
    "Each item is available in only one quantity.\n",
    "\n",
    "In other words, you are \n",
    "\n",
    "given two integer arrays val[] and wt[], which represent the values and weights \n",
    "associated with items, respectively. You are also given an integer capacity, \n",
    "which represents the knapsack capacity. \n",
    "\n",
    "Your task is to find the maximum sum of values of a subset of val[] \n",
    "such that the sum of the weights of the corresponding subset is less than or equal to capacity. \n",
    "\n",
    "You cannot break an item; you must either pick the entire item or leave it (0-1 property).\n",
    "\n",
    "Examples :\n",
    "\n",
    "Input: capacity = 4, val[] = [1, 2, 3], wt[] = [4, 5, 1] \n",
    "Output: 3\n",
    "\n",
    "Explanation: Choose the last item, which weighs 1 unit and has a value of 3.\n",
    "\n",
    "\n",
    "Input: capacity = 3, val[] = [1, 2, 3], wt[] = [4, 5, 6] \n",
    "Output: 0\n",
    "\n",
    "Explanation: Every item has a weight exceeding the knapsack's capacity (3).\n",
    "\n",
    "\n",
    "Input: capacity = 5, val[] = [10, 40, 30, 50], wt[] = [5, 4, 6, 3] \n",
    "Output: 50\n",
    "\n",
    "Explanation: Choose the last item (value 50, weight 3) for a total value of 50."
   ]
  },
  {
   "cell_type": "code",
   "execution_count": 5,
   "metadata": {},
   "outputs": [],
   "source": [
    "# 1 . brute force or Recursive solution\n",
    "\n",
    "def knapSack(C, val, wt, n):\n",
    "\n",
    "    def helper(index,rem_w):\n",
    "        # Base case \n",
    "        if index > n-1 or rem_w == 0 : \n",
    "            return 0\n",
    "    \n",
    "        # Recursive case\n",
    "        exclude = helper(index+1,rem_w)\n",
    "        include = 0\n",
    "        \n",
    "        if wt[index] <= rem_w :\n",
    "            include = val[index] + helper(index+1, rem_w - wt[index])\n",
    "        \n",
    "        print(include,exclude)\n",
    "        \n",
    "        return max(exclude, include)\n",
    "    \n",
    "    return helper(0, C)"
   ]
  },
  {
   "cell_type": "code",
   "execution_count": 6,
   "metadata": {},
   "outputs": [
    {
     "data": {
      "text/plain": [
       "7"
      ]
     },
     "execution_count": 6,
     "metadata": {},
     "output_type": "execute_result"
    }
   ],
   "source": [
    "knapSack(8,[2,3,4],[8,2,5],3)"
   ]
  },
  {
   "cell_type": "code",
   "execution_count": null,
   "metadata": {},
   "outputs": [],
   "source": []
  },
  {
   "cell_type": "code",
   "execution_count": null,
   "metadata": {},
   "outputs": [],
   "source": []
  },
  {
   "cell_type": "code",
   "execution_count": null,
   "metadata": {},
   "outputs": [],
   "source": []
  },
  {
   "cell_type": "code",
   "execution_count": null,
   "metadata": {},
   "outputs": [],
   "source": []
  },
  {
   "cell_type": "code",
   "execution_count": null,
   "metadata": {},
   "outputs": [],
   "source": []
  }
 ],
 "metadata": {
  "kernelspec": {
   "display_name": "Python 3",
   "language": "python",
   "name": "python3"
  },
  "language_info": {
   "codemirror_mode": {
    "name": "ipython",
    "version": 3
   },
   "file_extension": ".py",
   "mimetype": "text/x-python",
   "name": "python",
   "nbconvert_exporter": "python",
   "pygments_lexer": "ipython3",
   "version": "3.11.5"
  }
 },
 "nbformat": 4,
 "nbformat_minor": 2
}
