{
 "cells": [
  {
   "cell_type": "markdown",
   "metadata": {},
   "source": [
    "## 0 - 1 Knapsack Problem\n"
   ]
  },
  {
   "cell_type": "markdown",
   "metadata": {},
   "source": [
    "You are given the weights and values of items, and you need to put these items \n",
    "in a knapsack of capacity capacity to achieve the maximum total value in the knapsack. \n",
    "Each item is available in only one quantity.\n",
    "\n",
    "In other words, you are \n",
    "\n",
    "given two integer arrays val[] and wt[], which represent the values and weights \n",
    "associated with items, respectively. You are also given an integer capacity, \n",
    "which represents the knapsack capacity. \n",
    "\n",
    "Your task is to find the maximum sum of values of a subset of val[] \n",
    "such that the sum of the weights of the corresponding subset is less than or equal to capacity. \n",
    "\n",
    "You cannot break an item; you must either pick the entire item or leave it (0-1 property).\n",
    "\n",
    "Examples :\n",
    "\n",
    "Input: capacity = 4, val[] = [1, 2, 3], wt[] = [4, 5, 1] \n",
    "Output: 3\n",
    "\n",
    "Explanation: Choose the last item, which weighs 1 unit and has a value of 3.\n",
    "\n",
    "\n",
    "Input: capacity = 3, val[] = [1, 2, 3], wt[] = [4, 5, 6] \n",
    "Output: 0\n",
    "\n",
    "Explanation: Every item has a weight exceeding the knapsack's capacity (3).\n",
    "\n",
    "\n",
    "Input: capacity = 5, val[] = [10, 40, 30, 50], wt[] = [5, 4, 6, 3] \n",
    "Output: 50\n",
    "\n",
    "Explanation: Choose the last item (value 50, weight 3) for a total value of 50."
   ]
  },
  {
   "cell_type": "markdown",
   "metadata": {},
   "source": [
    "### method 1 : Recursive"
   ]
  },
  {
   "cell_type": "code",
   "execution_count": 39,
   "metadata": {},
   "outputs": [],
   "source": [
    "# 1 . brute force or Recursive solution\n",
    "\n",
    "def knapSack(C, val, wt, n):\n",
    "    def helper(index,rem_w):\n",
    "        print(\"index \",index,rem_w)\n",
    "        # Base case \n",
    "        if (index > n-1 )or (rem_w == 0 ): \n",
    "            return 0\n",
    "    \n",
    "        # Recursive case\n",
    "        exclude = helper(index+1,rem_w)\n",
    "        include = 0\n",
    "        \n",
    "        if wt[index] <= rem_w :\n",
    "            include = val[index] + helper(index+1, rem_w - wt[index])\n",
    "        \n",
    "        print(index,include,exclude)\n",
    "        return max(exclude, include)\n",
    "    \n",
    "    return helper(0, C)"
   ]
  },
  {
   "cell_type": "code",
   "execution_count": 40,
   "metadata": {},
   "outputs": [
    {
     "name": "stdout",
     "output_type": "stream",
     "text": [
      "index  0 8\n",
      "index  1 8\n",
      "index  2 8\n",
      "index  3 8\n",
      "index  3 3\n",
      "2 8 0\n",
      "index  2 6\n",
      "index  3 6\n",
      "index  3 1\n",
      "2 8 0\n",
      "1 11 8\n",
      "index  1 0\n",
      "0 2 11\n"
     ]
    },
    {
     "data": {
      "text/plain": [
       "11"
      ]
     },
     "execution_count": 40,
     "metadata": {},
     "output_type": "execute_result"
    }
   ],
   "source": [
    "knapSack(C = 8,val = [2,3,8],wt = [8,2,5],n = 3)"
   ]
  },
  {
   "cell_type": "code",
   "execution_count": 41,
   "metadata": {},
   "outputs": [],
   "source": [
    "# TC = O(2^n)  , SC = O(n) "
   ]
  },
  {
   "cell_type": "markdown",
   "metadata": {},
   "source": [
    "### method 2: Memoization"
   ]
  },
  {
   "cell_type": "code",
   "execution_count": 52,
   "metadata": {},
   "outputs": [],
   "source": [
    "def knapSack(C, val, wt, n):\n",
    "    dp = [[-1]*(C+1) for _ in range(n)]\n",
    "    def helper(i,rem_w):\n",
    "        if (i > n-1 )or (rem_w == 0 ): \n",
    "            return 0\n",
    "        print(\"index \",i,rem_w)\n",
    "        # Base case \n",
    "        if (dp[i][rem_w] != -1): \n",
    "            return dp[i][rem_w]\n",
    "    \n",
    "        # Recursive case\n",
    "        exclude = helper(i+1,rem_w)\n",
    "        include = 0\n",
    "        \n",
    "        if wt[i] <= rem_w :\n",
    "            include = val[i] + helper(i+1, rem_w - wt[i])\n",
    "        dp[i][rem_w] = max(exclude, include)\n",
    "        print(i,include,exclude)\n",
    "        return dp[i][rem_w]\n",
    "    \n",
    "    return helper(0, C)"
   ]
  },
  {
   "cell_type": "code",
   "execution_count": 53,
   "metadata": {},
   "outputs": [
    {
     "name": "stdout",
     "output_type": "stream",
     "text": [
      "index  0 8\n",
      "index  1 8\n",
      "index  2 8\n",
      "2 8 0\n",
      "index  2 6\n",
      "2 8 0\n",
      "1 11 8\n",
      "0 2 11\n"
     ]
    },
    {
     "data": {
      "text/plain": [
       "11"
      ]
     },
     "execution_count": 53,
     "metadata": {},
     "output_type": "execute_result"
    }
   ],
   "source": [
    "knapSack(C = 8,val = [2,3,8],wt = [8,2,5],n = 3)"
   ]
  },
  {
   "cell_type": "code",
   "execution_count": 54,
   "metadata": {},
   "outputs": [],
   "source": [
    "# TC = SC = O(n*W)"
   ]
  },
  {
   "cell_type": "markdown",
   "metadata": {},
   "source": [
    "### Method 3: Tabulation"
   ]
  },
  {
   "cell_type": "code",
   "execution_count": 63,
   "metadata": {},
   "outputs": [],
   "source": [
    "def knapSack(C, val, wt, n):\n",
    "    dp = [[-1]*(C+1) for _ in range(n+1)]\n",
    "\n",
    "    for i in range(1,n+1):\n",
    "        for j in range(1,C+1):\n",
    "            if(dp[i][j] != -1): \n",
    "                return dp[i][j]\n",
    "\n",
    "            exclude = dp[i-1][j]\n",
    "            include = 0\n",
    "    \n",
    "            if wt[i-1] <= j :\n",
    "                include = val[i-1] + dp[i-1][j - wt[i-1]]\n",
    "            dp[i][j] = max(exclude, include)\n",
    "    \n",
    "    return dp[n][C]"
   ]
  },
  {
   "cell_type": "code",
   "execution_count": 64,
   "metadata": {},
   "outputs": [
    {
     "data": {
      "text/plain": [
       "11"
      ]
     },
     "execution_count": 64,
     "metadata": {},
     "output_type": "execute_result"
    }
   ],
   "source": [
    "knapSack(C = 8,val = [2,3,8],wt = [8,2,5],n = 3)"
   ]
  },
  {
   "cell_type": "code",
   "execution_count": 65,
   "metadata": {},
   "outputs": [],
   "source": [
    "# TC = SC = O(n*C)"
   ]
  },
  {
   "cell_type": "code",
   "execution_count": null,
   "metadata": {},
   "outputs": [],
   "source": []
  },
  {
   "cell_type": "markdown",
   "metadata": {},
   "source": [
    "### Method 4: Space Optimization"
   ]
  },
  {
   "cell_type": "code",
   "execution_count": 70,
   "metadata": {},
   "outputs": [],
   "source": [
    "def knapSack(C, val, wt, n):\n",
    "    #dp = [[-1]*(C+1) for _ in range(n+1)]\n",
    "    prev = cur = [0]*(C+1)\n",
    "\n",
    "    for i in range(1,n+1):\n",
    "        for j in range(1,C+1):\n",
    "            exclude = prev[j]\n",
    "            include = 0\n",
    "            if wt[i-1] <= j :\n",
    "                include = val[i-1] + prev[j - wt[i-1]]\n",
    "            cur[j] = max(exclude, include)\n",
    "        prev = cur[:]\n",
    "    \n",
    "    return cur[C]"
   ]
  },
  {
   "cell_type": "code",
   "execution_count": 71,
   "metadata": {},
   "outputs": [
    {
     "data": {
      "text/plain": [
       "11"
      ]
     },
     "execution_count": 71,
     "metadata": {},
     "output_type": "execute_result"
    }
   ],
   "source": [
    "knapSack(C = 8,val = [2,3,8],wt = [8,2,5],n = 3)"
   ]
  },
  {
   "cell_type": "code",
   "execution_count": 72,
   "metadata": {},
   "outputs": [],
   "source": [
    "# TC = O(n*W) , SC = O(W)"
   ]
  },
  {
   "cell_type": "code",
   "execution_count": null,
   "metadata": {},
   "outputs": [],
   "source": []
  }
 ],
 "metadata": {
  "kernelspec": {
   "display_name": "Python 3",
   "language": "python",
   "name": "python3"
  },
  "language_info": {
   "codemirror_mode": {
    "name": "ipython",
    "version": 3
   },
   "file_extension": ".py",
   "mimetype": "text/x-python",
   "name": "python",
   "nbconvert_exporter": "python",
   "pygments_lexer": "ipython3",
   "version": "3.11.5"
  }
 },
 "nbformat": 4,
 "nbformat_minor": 2
}
