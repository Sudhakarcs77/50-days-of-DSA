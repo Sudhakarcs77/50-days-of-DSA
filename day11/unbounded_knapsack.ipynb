{
 "cells": [
  {
   "cell_type": "markdown",
   "metadata": {},
   "source": [
    "## Unbounded Knapsack"
   ]
  },
  {
   "cell_type": "markdown",
   "metadata": {},
   "source": [
    "Given a set of items, each with a weight and a value, \n",
    "represented by the array wt and val respectively. \n",
    "Also, a knapsack with a weight limit capacity.\n",
    "The task is to fill the knapsack in such a way that\n",
    " we can get the maximum profit. Return the maximum profit.\n",
    "Note: Each item can be taken any number of times.\n",
    "\n",
    "Examples:\n",
    "\n",
    "Input: val = [1, 1], wt = [2, 1], capacity = 3\n",
    "Output: 3\n",
    "Explanation:\n",
    " The optimal choice is to pick the 2nd element 3 times.\n",
    "\n",
    "\n",
    "Input: val[] = [6, 1, 7, 7], wt[] = [1, 3, 4, 5], \n",
    "capacity = 8\n",
    "Output: 48\n",
    "Explanation: \n",
    "\n",
    "The optimal choice is to pick the 1st element 8 times.\n",
    "\n",
    "\n",
    "Input: val[] = [6, 8, 7, 100], wt[] = [2, 3, 4, 5], \n",
    "capacity = 1\n",
    "Output: 0\n",
    "Explanation: \n",
    "We can't pick any element .hence, total profit is 0."
   ]
  },
  {
   "cell_type": "code",
   "execution_count": 13,
   "metadata": {},
   "outputs": [],
   "source": [
    "\n",
    "def knapSack(val, wt,capacity):\n",
    "    # code here\n",
    "    n = len(val)\n",
    "    dp = [[0]*(capacity+1) for _ in range(n+1)]\n",
    "    \n",
    "    #\n",
    "    for i in range(1,n+1):\n",
    "        for j in range(1,capacity+1):\n",
    "            exclude = dp[i-1][j]\n",
    "            include = 0\n",
    "            if wt[i-1] <= j:\n",
    "                include = val[i-1] + dp[i][j-wt[i-1]]\n",
    "            print(\"i: \", i, \"j: \", j, \"inex: \", include,exclude)\n",
    "            dp[i][j] = max(include,exclude)\n",
    "    return dp[n][capacity]"
   ]
  },
  {
   "cell_type": "code",
   "execution_count": 14,
   "metadata": {},
   "outputs": [
    {
     "name": "stdout",
     "output_type": "stream",
     "text": [
      "i:  1 j:  1 inex:  0 0\n",
      "i:  1 j:  2 inex:  1 0\n",
      "i:  1 j:  3 inex:  1 0\n",
      "i:  2 j:  1 inex:  1 0\n",
      "i:  2 j:  2 inex:  2 1\n",
      "i:  2 j:  3 inex:  3 1\n"
     ]
    },
    {
     "data": {
      "text/plain": [
       "3"
      ]
     },
     "execution_count": 14,
     "metadata": {},
     "output_type": "execute_result"
    }
   ],
   "source": [
    "val = [1, 1]\n",
    "wt = [2, 1]\n",
    "capacity = 3\n",
    "\n",
    "knapSack(val = val,wt=wt,capacity=capacity)"
   ]
  },
  {
   "cell_type": "code",
   "execution_count": 15,
   "metadata": {},
   "outputs": [
    {
     "name": "stdout",
     "output_type": "stream",
     "text": [
      "i:  1 j:  1 inex:  6 0\n",
      "i:  1 j:  2 inex:  12 0\n",
      "i:  1 j:  3 inex:  18 0\n",
      "i:  1 j:  4 inex:  24 0\n",
      "i:  1 j:  5 inex:  30 0\n",
      "i:  1 j:  6 inex:  36 0\n",
      "i:  1 j:  7 inex:  42 0\n",
      "i:  1 j:  8 inex:  48 0\n",
      "i:  2 j:  1 inex:  0 6\n",
      "i:  2 j:  2 inex:  0 12\n",
      "i:  2 j:  3 inex:  1 18\n",
      "i:  2 j:  4 inex:  7 24\n",
      "i:  2 j:  5 inex:  13 30\n",
      "i:  2 j:  6 inex:  19 36\n",
      "i:  2 j:  7 inex:  25 42\n",
      "i:  2 j:  8 inex:  31 48\n",
      "i:  3 j:  1 inex:  0 6\n",
      "i:  3 j:  2 inex:  0 12\n",
      "i:  3 j:  3 inex:  0 18\n",
      "i:  3 j:  4 inex:  7 24\n",
      "i:  3 j:  5 inex:  13 30\n",
      "i:  3 j:  6 inex:  19 36\n",
      "i:  3 j:  7 inex:  25 42\n",
      "i:  3 j:  8 inex:  31 48\n",
      "i:  4 j:  1 inex:  0 6\n",
      "i:  4 j:  2 inex:  0 12\n",
      "i:  4 j:  3 inex:  0 18\n",
      "i:  4 j:  4 inex:  0 24\n",
      "i:  4 j:  5 inex:  7 30\n",
      "i:  4 j:  6 inex:  13 36\n",
      "i:  4 j:  7 inex:  19 42\n",
      "i:  4 j:  8 inex:  25 48\n"
     ]
    },
    {
     "data": {
      "text/plain": [
       "48"
      ]
     },
     "execution_count": 15,
     "metadata": {},
     "output_type": "execute_result"
    }
   ],
   "source": [
    "knapSack(val = [6,1,7,7],wt=[1,3,4,5],capacity=8)"
   ]
  },
  {
   "cell_type": "code",
   "execution_count": 16,
   "metadata": {},
   "outputs": [],
   "source": [
    "# complexity T=S = O(N*W)"
   ]
  },
  {
   "cell_type": "code",
   "execution_count": 23,
   "metadata": {},
   "outputs": [],
   "source": [
    "# Space Optimization\n",
    "\n",
    "def knapSack(val, wt,capacity):\n",
    "    # code here\n",
    "    n = len(val)\n",
    "    #dp = [[0]*(capacity+1) for _ in range(n+1)]\n",
    "    prev = cur = [0]*(capacity+1)\n",
    "    \n",
    "    #\n",
    "    for i in range(1,n+1):\n",
    "        for j in range(1,capacity+1):\n",
    "            exclude = prev[j]\n",
    "            include = 0\n",
    "            if wt[i-1] <= j:\n",
    "                include = val[i-1] + cur[j-wt[i-1]]\n",
    "            print(\"i: \", i, \"j: \", j, \"inex: \", include,exclude)\n",
    "            cur[j] = max(include,exclude)\n",
    "        prev = cur[:]\n",
    "    return cur[capacity]"
   ]
  },
  {
   "cell_type": "code",
   "execution_count": 24,
   "metadata": {},
   "outputs": [
    {
     "name": "stdout",
     "output_type": "stream",
     "text": [
      "i:  1 j:  1 inex:  0 0\n",
      "i:  1 j:  2 inex:  1 0\n",
      "i:  1 j:  3 inex:  1 0\n",
      "i:  2 j:  1 inex:  1 0\n",
      "i:  2 j:  2 inex:  2 1\n",
      "i:  2 j:  3 inex:  3 1\n"
     ]
    },
    {
     "data": {
      "text/plain": [
       "3"
      ]
     },
     "execution_count": 24,
     "metadata": {},
     "output_type": "execute_result"
    }
   ],
   "source": [
    "val = [1, 1]\n",
    "wt = [2, 1]\n",
    "capacity = 3\n",
    "\n",
    "knapSack(val = val,wt=wt,capacity=capacity)"
   ]
  },
  {
   "cell_type": "code",
   "execution_count": 25,
   "metadata": {},
   "outputs": [
    {
     "name": "stdout",
     "output_type": "stream",
     "text": [
      "i:  1 j:  1 inex:  6 0\n",
      "i:  1 j:  2 inex:  12 0\n",
      "i:  1 j:  3 inex:  18 0\n",
      "i:  1 j:  4 inex:  24 0\n",
      "i:  1 j:  5 inex:  30 0\n",
      "i:  1 j:  6 inex:  36 0\n",
      "i:  1 j:  7 inex:  42 0\n",
      "i:  1 j:  8 inex:  48 0\n",
      "i:  2 j:  1 inex:  0 6\n",
      "i:  2 j:  2 inex:  0 12\n",
      "i:  2 j:  3 inex:  1 18\n",
      "i:  2 j:  4 inex:  7 24\n",
      "i:  2 j:  5 inex:  13 30\n",
      "i:  2 j:  6 inex:  19 36\n",
      "i:  2 j:  7 inex:  25 42\n",
      "i:  2 j:  8 inex:  31 48\n",
      "i:  3 j:  1 inex:  0 6\n",
      "i:  3 j:  2 inex:  0 12\n",
      "i:  3 j:  3 inex:  0 18\n",
      "i:  3 j:  4 inex:  7 24\n",
      "i:  3 j:  5 inex:  13 30\n",
      "i:  3 j:  6 inex:  19 36\n",
      "i:  3 j:  7 inex:  25 42\n",
      "i:  3 j:  8 inex:  31 48\n",
      "i:  4 j:  1 inex:  0 6\n",
      "i:  4 j:  2 inex:  0 12\n",
      "i:  4 j:  3 inex:  0 18\n",
      "i:  4 j:  4 inex:  0 24\n",
      "i:  4 j:  5 inex:  7 30\n",
      "i:  4 j:  6 inex:  13 36\n",
      "i:  4 j:  7 inex:  19 42\n",
      "i:  4 j:  8 inex:  25 48\n"
     ]
    },
    {
     "data": {
      "text/plain": [
       "48"
      ]
     },
     "execution_count": 25,
     "metadata": {},
     "output_type": "execute_result"
    }
   ],
   "source": [
    "knapSack(val = [6,1,7,7],wt=[1,3,4,5],capacity=8)"
   ]
  },
  {
   "cell_type": "code",
   "execution_count": 26,
   "metadata": {},
   "outputs": [],
   "source": [
    "# TC = O(N*W) , SC = O(W)"
   ]
  },
  {
   "cell_type": "markdown",
   "metadata": {},
   "source": []
  }
 ],
 "metadata": {
  "kernelspec": {
   "display_name": "Python 3",
   "language": "python",
   "name": "python3"
  },
  "language_info": {
   "codemirror_mode": {
    "name": "ipython",
    "version": 3
   },
   "file_extension": ".py",
   "mimetype": "text/x-python",
   "name": "python",
   "nbconvert_exporter": "python",
   "pygments_lexer": "ipython3",
   "version": "3.11.5"
  }
 },
 "nbformat": 4,
 "nbformat_minor": 2
}
