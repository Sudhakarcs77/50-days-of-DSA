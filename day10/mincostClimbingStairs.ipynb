{
 "cells": [
  {
   "cell_type": "code",
   "execution_count": null,
   "metadata": {},
   "outputs": [],
   "source": []
  },
  {
   "cell_type": "code",
   "execution_count": null,
   "metadata": {},
   "outputs": [],
   "source": []
  },
  {
   "cell_type": "code",
   "execution_count": 1,
   "metadata": {},
   "outputs": [],
   "source": [
    "def minCostClimbingStairs(cost):\n",
    "    #write code here\n",
    "    n = len(cost)\n",
    "    \n",
    "    mincost = [0]*(n+1)\n",
    "    mincost[0], mincost[1] = 0,0\n",
    "    for i in range(2,n+1):\n",
    "        #onestep\n",
    "        onestep = cost[i-1]+mincost[i-1]\n",
    "        twostep = cost[i-2]+mincost[i-2]\n",
    "        mincost[i] = min(onestep,twostep)\n",
    "    return mincost[n]\n",
    "    "
   ]
  },
  {
   "cell_type": "code",
   "execution_count": null,
   "metadata": {},
   "outputs": [],
   "source": []
  }
 ],
 "metadata": {
  "kernelspec": {
   "display_name": "Python 3",
   "language": "python",
   "name": "python3"
  },
  "language_info": {
   "codemirror_mode": {
    "name": "ipython",
    "version": 3
   },
   "file_extension": ".py",
   "mimetype": "text/x-python",
   "name": "python",
   "nbconvert_exporter": "python",
   "pygments_lexer": "ipython3",
   "version": "3.11.5"
  }
 },
 "nbformat": 4,
 "nbformat_minor": 2
}
