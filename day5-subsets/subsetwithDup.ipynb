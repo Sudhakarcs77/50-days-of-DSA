{
 "cells": [
  {
   "cell_type": "code",
   "execution_count": null,
   "metadata": {},
   "outputs": [],
   "source": []
  },
  {
   "cell_type": "code",
   "execution_count": 1,
   "metadata": {},
   "outputs": [],
   "source": [
    "def subsetsWithDup(nums):\n",
    "    #write code here\n",
    "    res = []\n",
    "    nums.sort()\n",
    "    def helper(i,cur):\n",
    "        if i == len(nums):\n",
    "            res.append(cur[:])\n",
    "            return\n",
    "        \n",
    "        # include\n",
    "        cur.append(nums[i])\n",
    "        helper(i+1,cur)\n",
    "        cur.pop()\n",
    "        \n",
    "        # exclude\n",
    "        while (i < len(nums)-1) and (nums[i]==nums[i+1]):\n",
    "            i += 1 \n",
    "        helper(i+1,cur)\n",
    "        \n",
    "    helper(0,[])\n",
    "    return res"
   ]
  },
  {
   "cell_type": "code",
   "execution_count": 2,
   "metadata": {},
   "outputs": [
    {
     "data": {
      "text/plain": [
       "[[1, 3, 3], [1, 3], [1], [3, 3], [3], []]"
      ]
     },
     "execution_count": 2,
     "metadata": {},
     "output_type": "execute_result"
    }
   ],
   "source": [
    "subsetsWithDup([1,3,3])"
   ]
  },
  {
   "cell_type": "code",
   "execution_count": null,
   "metadata": {},
   "outputs": [],
   "source": []
  }
 ],
 "metadata": {
  "kernelspec": {
   "display_name": "Python 3",
   "language": "python",
   "name": "python3"
  },
  "language_info": {
   "codemirror_mode": {
    "name": "ipython",
    "version": 3
   },
   "file_extension": ".py",
   "mimetype": "text/x-python",
   "name": "python",
   "nbconvert_exporter": "python",
   "pygments_lexer": "ipython3",
   "version": "3.11.5"
  }
 },
 "nbformat": 4,
 "nbformat_minor": 2
}
