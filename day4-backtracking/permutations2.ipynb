{
 "cells": [
  {
   "cell_type": "code",
   "execution_count": null,
   "metadata": {},
   "outputs": [],
   "source": [
    "# Permutations 2\n",
    "\"\"\"\n",
    "[1, 1, 2]\n",
    "\n",
    "\n",
    "[[1,1,2],[1,2,1],[2,1,1]]\n",
    "\n",
    "\"\"\""
   ]
  },
  {
   "cell_type": "code",
   "execution_count": 1,
   "metadata": {},
   "outputs": [],
   "source": [
    "def permutations(nums):\n",
    "    res = []\n",
    "    # 1,2,2\n",
    "    def helper(i):\n",
    "        # base case\n",
    "        if i == len(nums) - 1: # last element\n",
    "            res.append(nums[:])\n",
    "            return\n",
    "        # recursive case\n",
    "        hash = {}\n",
    "        for j in range(i, len(nums)):\n",
    "            if nums[j] not in hash:\n",
    "                hash[nums[j]] = True\n",
    "                nums[i], nums[j] = nums[j], nums[i]\n",
    "                helper(i + 1)\n",
    "                nums[i], nums[j] = nums[j], nums[i] # backtrack\n",
    "    \n",
    "    helper(0)\n",
    "    return res"
   ]
  },
  {
   "cell_type": "code",
   "execution_count": 2,
   "metadata": {},
   "outputs": [
    {
     "data": {
      "text/plain": [
       "[[1, 1, 2], [1, 2, 1], [2, 1, 1]]"
      ]
     },
     "execution_count": 2,
     "metadata": {},
     "output_type": "execute_result"
    }
   ],
   "source": [
    "permutations([1, 1, 2])"
   ]
  },
  {
   "cell_type": "code",
   "execution_count": null,
   "metadata": {},
   "outputs": [],
   "source": [
    "\"\"\"\n",
    "\n",
    "TC: O(n * n!)\n",
    "\n",
    "SC - O(n)\n",
    "O(n!) - permutation calls \n",
    "\n",
    "\n",
    "\"\"\""
   ]
  }
 ],
 "metadata": {
  "kernelspec": {
   "display_name": "Python 3",
   "language": "python",
   "name": "python3"
  },
  "language_info": {
   "codemirror_mode": {
    "name": "ipython",
    "version": 3
   },
   "file_extension": ".py",
   "mimetype": "text/x-python",
   "name": "python",
   "nbconvert_exporter": "python",
   "pygments_lexer": "ipython3",
   "version": "3.11.5"
  }
 },
 "nbformat": 4,
 "nbformat_minor": 2
}
