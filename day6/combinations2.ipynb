{
 "cells": [
  {
   "cell_type": "code",
   "execution_count": null,
   "metadata": {},
   "outputs": [],
   "source": []
  },
  {
   "cell_type": "code",
   "execution_count": 1,
   "metadata": {},
   "outputs": [],
   "source": [
    "def combinationSum(candidates, target):\n",
    "    #write code here\n",
    "    #the integers in the candidates array are all non negative  \n",
    "    res = []\n",
    "    def helper(i,cur,curSum):\n",
    "        # base case\n",
    "        if curSum>target:\n",
    "            return\n",
    "        if curSum == target:\n",
    "            res.append(cur[:])\n",
    "            return\n",
    "        \n",
    "        # recursive case\n",
    "        for j in range(i,len(candidates)):\n",
    "            cur.append(candidates[j])\n",
    "            helper(j,cur,curSum+candidates[j])\n",
    "            cur.pop()\n",
    "            \n",
    "            \n",
    "    helper(0,[],0)\n",
    "    return res"
   ]
  },
  {
   "cell_type": "code",
   "execution_count": 4,
   "metadata": {},
   "outputs": [
    {
     "data": {
      "text/plain": [
       "[[2, 2, 3], [3, 4], [7]]"
      ]
     },
     "execution_count": 4,
     "metadata": {},
     "output_type": "execute_result"
    }
   ],
   "source": [
    "combinationSum([2,3,4,7],7)"
   ]
  },
  {
   "cell_type": "code",
   "execution_count": null,
   "metadata": {},
   "outputs": [],
   "source": []
  }
 ],
 "metadata": {
  "kernelspec": {
   "display_name": "Python 3",
   "language": "python",
   "name": "python3"
  },
  "language_info": {
   "codemirror_mode": {
    "name": "ipython",
    "version": 3
   },
   "file_extension": ".py",
   "mimetype": "text/x-python",
   "name": "python",
   "nbconvert_exporter": "python",
   "pygments_lexer": "ipython3",
   "version": "3.11.5"
  }
 },
 "nbformat": 4,
 "nbformat_minor": 2
}
