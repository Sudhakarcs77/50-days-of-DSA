{
 "cells": [
  {
   "cell_type": "code",
   "execution_count": 3,
   "metadata": {},
   "outputs": [
    {
     "data": {
      "text/plain": [
       "' \\n\\nGiven a collection of candidate numbers (candidates) and a target number (target), find all unique combinations \\nin candidates where the candidate numbers sum to target.\\nEach number in candidates may only be used once in the combination.\\nNote: The solution set must not contain duplicate combinations.\\n\\nExample 1:\\n\\nInput: candidates = [10,1,2,7,6,1,5], target = 8\\nOutput: \\n[\\n[1,1,6],\\n[1,2,5],\\n[1,7],\\n[2,6]\\n]\\n\\n\\n'"
      ]
     },
     "execution_count": 3,
     "metadata": {},
     "output_type": "execute_result"
    }
   ],
   "source": [
    "\"\"\" \n",
    "\n",
    "Given a collection of candidate numbers (candidates) and a target number (target), find all unique combinations \n",
    "in candidates where the candidate numbers sum to target.\n",
    "Each number in candidates may only be used once in the combination.\n",
    "Note: The solution set must not contain duplicate combinations.\n",
    "\n",
    "Example 1:\n",
    "\n",
    "Input: candidates = [10,1,2,7,6,1,5], target = 8\n",
    "Output: \n",
    "[\n",
    "[1,1,6],\n",
    "[1,2,5],\n",
    "[1,7],\n",
    "[2,6]\n",
    "]\n",
    "\n",
    "\n",
    "\"\"\""
   ]
  },
  {
   "cell_type": "code",
   "execution_count": 6,
   "metadata": {},
   "outputs": [],
   "source": [
    "# leet code link: https://leetcode.com/problems/combination-sum-ii/description/\n",
    "\n",
    "def combinationSum2(candidates, target):\n",
    "    candidates.sort()\n",
    "    res = []\n",
    "    def helper(i, cur, curSum):\n",
    "        if curSum > target:\n",
    "            return\n",
    "        if curSum == target:\n",
    "            res.append(cur[:])\n",
    "            return\n",
    "        if i > len(candidates) - 1:\n",
    "            return\n",
    "        # recursive case\n",
    "        hash = {}\n",
    "        for j in range(i, len(candidates)):\n",
    "            if candidates[j] not in hash:\n",
    "                hash[candidates[j]] = True\n",
    "                cur.append(candidates[j])\n",
    "                helper(j + 1, cur , curSum + candidates[j])\n",
    "                cur.pop()\n",
    "        \n",
    "    helper(0, [], 0)\n",
    "    return res    "
   ]
  },
  {
   "cell_type": "code",
   "execution_count": 7,
   "metadata": {},
   "outputs": [
    {
     "data": {
      "text/plain": [
       "[[1, 1, 6], [1, 2, 5], [1, 7], [2, 6]]"
      ]
     },
     "execution_count": 7,
     "metadata": {},
     "output_type": "execute_result"
    }
   ],
   "source": [
    "combinationSum2([10,1,2,7,6,1,5],8)"
   ]
  },
  {
   "cell_type": "code",
   "execution_count": null,
   "metadata": {},
   "outputs": [],
   "source": [
    "# TC = O(2^n) , SC = O(n)\n"
   ]
  },
  {
   "cell_type": "markdown",
   "metadata": {},
   "source": []
  }
 ],
 "metadata": {
  "kernelspec": {
   "display_name": "Python 3",
   "language": "python",
   "name": "python3"
  },
  "language_info": {
   "codemirror_mode": {
    "name": "ipython",
    "version": 3
   },
   "file_extension": ".py",
   "mimetype": "text/x-python",
   "name": "python",
   "nbconvert_exporter": "python",
   "pygments_lexer": "ipython3",
   "version": "3.11.5"
  }
 },
 "nbformat": 4,
 "nbformat_minor": 2
}
