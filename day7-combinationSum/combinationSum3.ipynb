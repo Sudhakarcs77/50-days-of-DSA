{
 "cells": [
  {
   "cell_type": "code",
   "execution_count": 2,
   "metadata": {},
   "outputs": [],
   "source": [
    "# leet code 216 - https://leetcode.com/problems/combination-sum-iii/description/"
   ]
  },
  {
   "cell_type": "code",
   "execution_count": 3,
   "metadata": {},
   "outputs": [],
   "source": [
    "def combinationSum3(k, n):\n",
    "    res = []\n",
    "    def helper(number,curr,currSum):\n",
    "        if currSum ==n and len(curr)==k:\n",
    "            res.append(curr[:])\n",
    "            return\n",
    "        if currSum >n or len(curr)==k:\n",
    "            return\n",
    "        for x in range(number,10):\n",
    "            curr.append(x)\n",
    "            helper(x+1,curr,currSum+x)\n",
    "            curr.pop()\n",
    "    helper(1,[],0)\n",
    "    return res                \n"
   ]
  },
  {
   "cell_type": "code",
   "execution_count": 4,
   "metadata": {},
   "outputs": [
    {
     "name": "stdout",
     "output_type": "stream",
     "text": [
      "[[1, 2, 4]]\n"
     ]
    }
   ],
   "source": [
    "k = 3\n",
    "n = 7\n",
    "print(combinationSum3(k, n)) # Output: [[1, 2, 4]]"
   ]
  },
  {
   "cell_type": "code",
   "execution_count": null,
   "metadata": {},
   "outputs": [],
   "source": []
  }
 ],
 "metadata": {
  "kernelspec": {
   "display_name": "Python 3",
   "language": "python",
   "name": "python3"
  },
  "language_info": {
   "codemirror_mode": {
    "name": "ipython",
    "version": 3
   },
   "file_extension": ".py",
   "mimetype": "text/x-python",
   "name": "python",
   "nbconvert_exporter": "python",
   "pygments_lexer": "ipython3",
   "version": "3.11.5"
  }
 },
 "nbformat": 4,
 "nbformat_minor": 2
}
